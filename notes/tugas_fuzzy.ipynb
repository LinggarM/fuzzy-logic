{
  "nbformat": 4,
  "nbformat_minor": 0,
  "metadata": {
    "colab": {
      "provenance": []
    },
    "kernelspec": {
      "name": "python3",
      "display_name": "Python 3"
    }
  },
  "cells": [
    {
      "cell_type": "code",
      "metadata": {
        "id": "2iLxFbjQMy5w"
      },
      "source": [
        "ax0.plot(x_uan, uan_low, 'b', linewidth=1.5, label = 'rendah')\n",
        "ax0.plot(x_uan, uan_mid, 'g', linewidth=1.5, label = 'sedang')\n",
        "ax0.plot(x_uan, uan_high, 'r', linewidth=1.5, label = 'tinggi')\n",
        "ax0.set_title('Nilai UAN')\n",
        "ax0.legend()\n",
        "\n",
        "ax1.plot(x_raport, raport_low, 'b', linewidth=1.5, label = 'rendah')\n",
        "ax1.plot(x_raport, raport_mid, 'g', linewidth=1.5, label = 'sedang')\n",
        "ax1.plot(x_raport, raport_high, 'r', linewidth=1.5, label = 'tinggi')\n",
        "ax1.set_title('Nilai Raport')\n",
        "ax1.legend()\n",
        "\n",
        "ax2.plot(x_tpa, tpa_low, 'b', linewidth=1.5, label = 'rendah')\n",
        "ax2.plot(x_tpa, tpa_mid, 'g', linewidth=1.5, label = 'sedang')\n",
        "ax2.plot(x_tpa, tpa_high, 'r', linewidth=1.5, label = 'tinggi')\n",
        "ax2.set_title('TPA')\n",
        "ax2.legend()\n",
        "\n",
        "ax3.plot(x_fisik, fisik_low, 'b', linewidth=1.5, label = 'kurang')\n",
        "ax3.plot(x_fisik, fisik_mid, 'g', linewidth=1.5, label = 'cukup')\n",
        "ax3.plot(x_fisik, fisik_high, 'r', linewidth=1.5, label = 'baik')\n",
        "ax3.set_title('Tes Fisik')\n",
        "ax3.legend()\n",
        "\n",
        "ax4.plot(x_wawancara, wawancara_low, 'b', linewidth=1.5, label = 'kurang')\n",
        "ax4.plot(x_wawancara, wawancara_high, 'r', linewidth=1.5, label = 'baik')\n",
        "ax4.set_title('Tes Wawancara')\n",
        "ax4.legend()\n",
        "\n",
        "ax5.plot(x_psikologi, psikologi_low, 'b', linewidth=1.5, label = 'kurang')\n",
        "ax5.plot(x_psikologi, psikologi_high, 'r', linewidth=1.5, label = 'baik')\n",
        "ax5.set_title('Tes Psikologi')\n",
        "ax5.legend()"
      ],
      "execution_count": null,
      "outputs": []
    }
  ]
}